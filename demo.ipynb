{
 "metadata": {
  "language_info": {
   "codemirror_mode": {
    "name": "ipython",
    "version": 3
   },
   "file_extension": ".py",
   "mimetype": "text/x-python",
   "name": "python",
   "nbconvert_exporter": "python",
   "pygments_lexer": "ipython3",
   "version": "3.7.4-final"
  },
  "orig_nbformat": 2,
  "kernelspec": {
   "name": "python3",
   "display_name": "Python 3"
  }
 },
 "nbformat": 4,
 "nbformat_minor": 2,
 "cells": [
  {
   "cell_type": "code",
   "execution_count": 39,
   "metadata": {},
   "outputs": [
    {
     "output_type": "stream",
     "name": "stdout",
     "text": [
      "['週數', '帳戶1', '帳戶2', '帳戶3', '帳戶4', '帳戶5', '每週總手數', '累積手數', '新增迴圈數', '累積500美金加開一迴圈']\n"
     ]
    }
   ],
   "source": [
    "import pandas as pd\n",
    "\n",
    "Budget = 3000 # 總預算 (限定整數, 每1000+)\n",
    "LoopBudget = 500 # 每組迴圈預算\n",
    "Commission = 40 # 設定傭金的金額\n",
    "InitialAccountBudget = 1000\n",
    "AverageLotsPerLoop = 0.25 # 每組迴圈平均手數\n",
    "SubAccountNumbers = 5 # 子帳號數目\n",
    "WeeklyNumbers = 104 # 左側總計週數\n",
    "WeeklyLots = 0 # 每週手數\n",
    "# AccumulationLots = 0  # 累積手數\n",
    "AutoAddLoop = True # 複利 or 單利\n",
    "\n",
    "titlearr = ['週數', '每週總手數', '累積手數','新增迴圈數', '累積500美金加開一迴圈']\n",
    "\n",
    "for i in range(1, SubAccountNumbers + 1):\n",
    "    titlearr.insert(0 + i, '帳戶{index}'.format(index = i))\n",
    "\n",
    "print(titlearr)"
   ]
  },
  {
   "cell_type": "code",
   "execution_count": 40,
   "metadata": {},
   "outputs": [
    {
     "output_type": "stream",
     "name": "stdout",
     "text": [
      "[{'帳戶1總資金': 1000, '帳戶1手數': 0.5}, {'帳戶2總資金': 1000, '帳戶2手數': 0.5}, {'帳戶3總資金': 1000, '帳戶3手數': 0.5}, ['帳戶4總資金', '帳戶4手數'], ['帳戶5總資金', '帳戶5手數']]\n"
     ]
    }
   ],
   "source": [
    "dataList = []\n",
    "def EstimatedTable(WeeklyNumbers, LoopBudget, AverageLotsPerLoop, SubAccountNumbers, AutoAddLoop, Commission):\n",
    "    \n",
    "    AccountList = []\n",
    "    AccumulationLots = 0 # 累積手數\n",
    "    OverLots = LoopBudget / Commission\n",
    "    \n",
    "    # 週數\n",
    "    for week in range(1, WeeklyNumbers + 1):\n",
    "        data = {}\n",
    "        data['週數'] = week\n",
    "        data['每週總手數'] = 0\n",
    "        data['累積手數'] = 0\n",
    "        \n",
    "        # 初始資金及手數配置\n",
    "        if data['週數'] == 1 :\n",
    "            OriginalAccountNumbers = int(Budget / InitialAccountBudget)\n",
    "            for i in range(1, OriginalAccountNumbers + 1):\n",
    "                money = InitialAccountBudget\n",
    "                lots = money/LoopBudget*AverageLotsPerLoop\n",
    "                AccountList.append({'帳戶{}總資金'.format(i) : money, '帳戶{}手數'.format(i) : lots})\n",
    "                \n",
    "                # data['帳戶{}總資金'.format(i)] = InitialAccountBudget\n",
    "                # data['帳戶{}手數'.format(i)] = data['帳戶{}總資金'.format(i)]/LoopBudget*AverageLotsPerLoop\n",
    "\n",
    "            for i in range(OriginalAccountNumbers + 1, SubAccountNumbers + 1):\n",
    "                AccountList.append(['帳戶{}總資金'.format(i), '帳戶{}手數'.format(i)])\n",
    "                data['帳戶{}總資金'.format(i)] = 0\n",
    "                data['帳戶{}手數'.format(i)] = data['帳戶{}總資金'.format(i)]/LoopBudget*AverageLotsPerLoop\n",
    "                \n",
    "            # 每週總手數\n",
    "            for i in range(1, SubAccountNumbers + 1):\n",
    "                data['每週總手數'] = data['每週總手數'] + data['帳戶{}手數'.format(i)]\n",
    "            \n",
    "            # 累積手數\n",
    "            AccumulationLots = data['每週總手數']\n",
    "            data['累積手數'] = AccumulationLots\n",
    "\n",
    "        # 當不是初始週時\n",
    "        else:\n",
    "            # 當累積手數能夠加碼時\n",
    "            if AccumulationLots > OverLots:\n",
    "                AccumulationLots =- OverLots\n",
    "                \n",
    "\n",
    "            OriginalAccountNumbers = int(Budget / InitialAccountBudget)\n",
    "            for i in range(1, OriginalAccountNumbers + 1):\n",
    "                data['帳戶{}總資金'.format(i)] = InitialAccountBudget\n",
    "                data['帳戶{}手數'.format(i)] = data['帳戶{}總資金'.format(i)]/LoopBudget*AverageLotsPerLoop\n",
    "            for i in range(OriginalAccountNumbers + 1, SubAccountNumbers + 1):\n",
    "                data['帳戶{}總資金'.format(i)] = 0\n",
    "                data['帳戶{}手數'.format(i)] = data['帳戶{}總資金'.format(i)]/LoopBudget*AverageLotsPerLoop\n",
    "                \n",
    "            # 每週總手數\n",
    "            for i in range(1, SubAccountNumbers + 1):\n",
    "                data['每週總手數'] = data['每週總手數'] + data['帳戶{}手數'.format(i)]\n",
    "\n",
    "            # 累積手數\n",
    "            AccumulationLots = AccumulationLots + data['每週總手數']\n",
    "            data['累積手數'] = AccumulationLots\n",
    "\n",
    "        dataList.append(data)\n",
    "        pass\n",
    "    # print(dataList)\n",
    "    print(AccountList)\n",
    "EstimatedTable(WeeklyNumbers, LoopBudget, AverageLotsPerLoop, SubAccountNumbers, AutoAddLoop, Commission)"
   ]
  }
 ]
}